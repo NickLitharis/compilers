{
 "cells": [
  {
   "cell_type": "code",
   "execution_count": 15,
   "metadata": {},
   "outputs": [],
   "source": [
    "# Νίκος Λιθαρής\n",
    "# ΑΜ: Π2019083\n",
    "\n",
    "from compilerlabs import DFA"
   ]
  },
  {
   "cell_type": "code",
   "execution_count": 16,
   "metadata": {},
   "outputs": [],
   "source": [
    "lab1dfa=DFA('s0')"
   ]
  },
  {
   "cell_type": "code",
   "execution_count": 17,
   "metadata": {},
   "outputs": [],
   "source": [
    "# Κάνουμε τον έλεγχο των ημερών\n",
    "\n",
    "lab1dfa.transition('s0','0','s1')\n",
    "lab1dfa.transition('s1',['1','2','3','4','5','6','7','8','9'],'s2')\n",
    "lab1dfa.transition('s2',['/','-','.'],'s3')\n",
    "lab1dfa.transition('s0',['1','2'],'s4')\n",
    "lab1dfa.transition('s4',['0','1','2','3','4','5','6','7','8','9'],'s2')\n",
    "lab1dfa.transition('s4',['/','-','.'],'s3')\n",
    "lab1dfa.transition('s0','3','s5')\n",
    "lab1dfa.transition('s5', ['0', '1'], 's2')\n",
    "lab1dfa.transition('s5',['/','-','.'],'s3')\n",
    "\n",
    "# Κάνουμε τον έλεγχο των μηνών\n",
    "lab1dfa.transition('s3','0','s6')\n",
    "lab1dfa.transition('s6',['1','2','3','4','5','6','7','8','9'],'s7')\n",
    "lab1dfa.transition('s7',['/','-','.'],'s8')\n",
    "lab1dfa.transition('s3','1','s9')\n",
    "lab1dfa.transition('s9',['0','1','2'],'s7')\n",
    "lab1dfa.transition('s9',['/','-','.'],'s8')\n",
    "lab1dfa.transition('s3',['2','3','4','5','6','7','8','9'],'s7')\n",
    "\n",
    "# Κάνουμε τον έλεγχο του έτους\n",
    "lab1dfa.transition('s8','1','s10')\n",
    "lab1dfa.transition('s10','9','s11')\n",
    "lab1dfa.transition('s11',['0','1','2','3','4','5','6','7','8','9'],'s12')\n",
    "lab1dfa.transition('s12',['0','1','2','3','4','5','6','7','8','9'],'s13')\n",
    "lab1dfa.transition('s8','2','s14')\n",
    "lab1dfa.transition('s14','0','s11')\n",
    "\n",
    "lab1dfa.accept('s13','DATE ACCEPTED')\n"
   ]
  },
  {
   "cell_type": "code",
   "execution_count": 18,
   "metadata": {},
   "outputs": [
    {
     "name": "stdout",
     "output_type": "stream",
     "text": [
      "DATE ACCEPTED 31/3/2023\n"
     ]
    }
   ],
   "source": [
    "\n",
    "token, lexeme = lab1dfa.scan(\"31/3/2023\")\n",
    "print(token,lexeme)"
   ]
  },
  {
   "cell_type": "code",
   "execution_count": 19,
   "metadata": {},
   "outputs": [
    {
     "name": "stdout",
     "output_type": "stream",
     "text": [
      "None \n"
     ]
    }
   ],
   "source": [
    "\n",
    "token, lexeme = lab1dfa.scan(\"7-02-1901\")\n",
    "print(token, lexeme)\n"
   ]
  },
  {
   "cell_type": "code",
   "execution_count": 20,
   "metadata": {},
   "outputs": [
    {
     "name": "stdout",
     "output_type": "stream",
     "text": [
      "DATE ACCEPTED 09.11.2088\n"
     ]
    }
   ],
   "source": [
    "\n",
    "token, lexeme = lab1dfa.scan(\"09.11.2088\")\n",
    "print(token, lexeme)\n"
   ]
  },
  {
   "cell_type": "code",
   "execution_count": 21,
   "metadata": {},
   "outputs": [
    {
     "name": "stdout",
     "output_type": "stream",
     "text": [
      "None \n"
     ]
    }
   ],
   "source": [
    "\n",
    "token, lexeme = lab1dfa.scan(\"32/8/1980\")\n",
    "print(token, lexeme)\n"
   ]
  },
  {
   "cell_type": "code",
   "execution_count": 22,
   "metadata": {},
   "outputs": [
    {
     "name": "stdout",
     "output_type": "stream",
     "text": [
      "None \n"
     ]
    }
   ],
   "source": [
    "\n",
    "token, lexeme = lab1dfa.scan(\"05-13-2023\")\n",
    "print(token, lexeme)\n"
   ]
  },
  {
   "cell_type": "code",
   "execution_count": 23,
   "metadata": {},
   "outputs": [
    {
     "name": "stdout",
     "output_type": "stream",
     "text": [
      "None \n"
     ]
    }
   ],
   "source": [
    "\n",
    "token, lexeme = lab1dfa.scan(\"4.6.1899\")\n",
    "print(token, lexeme)\n"
   ]
  },
  {
   "cell_type": "code",
   "execution_count": 24,
   "metadata": {},
   "outputs": [
    {
     "name": "stdout",
     "output_type": "stream",
     "text": [
      "None \n"
     ]
    }
   ],
   "source": [
    "\n",
    "token, lexeme = lab1dfa.scan(\"3/11/20\")\n",
    "print(token, lexeme)\n"
   ]
  }
 ],
 "metadata": {
  "kernelspec": {
   "display_name": "Python 3",
   "language": "python",
   "name": "python3"
  },
  "language_info": {
   "codemirror_mode": {
    "name": "ipython",
    "version": 3
   },
   "file_extension": ".py",
   "mimetype": "text/x-python",
   "name": "python",
   "nbconvert_exporter": "python",
   "pygments_lexer": "ipython3",
   "version": "3.10.9"
  },
  "orig_nbformat": 4,
  "vscode": {
   "interpreter": {
    "hash": "e7370f93d1d0cde622a1f8e1c04877d8463912d04d973331ad4851f04de6915a"
   }
  }
 },
 "nbformat": 4,
 "nbformat_minor": 2
}
